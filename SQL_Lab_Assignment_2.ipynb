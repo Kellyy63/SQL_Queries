{
 "cells": [
  {
   "cell_type": "markdown",
   "metadata": {},
   "source": [
    "# SQL Subqueries - Lab Assignment #2\n",
    "\n",
    "## Introduction\n",
    "\n",
    "Now that you've seen how subqueries work, it's time to get some practice writing them! Not all of the queries will require subqueries, but all will be a bit more complex and require some thought and review about aggregates, grouping, ordering, filtering, joins and subqueries. Good luck!  \n",
    "\n",
    "## Objectives\n",
    "\n",
    "You will be able to:\n",
    "\n",
    "* Write subqueries to decompose complex queries\n",
    "\n",
    "## CRM Database ERD\n",
    "\n",
    "Once again, here's the schema for the CRM database you'll continue to practice with.\n",
    "\n",
    "<img src=\"img/Database-Schema.png\" width=\"600\">\n",
    "\n",
    "## Connect to the Database\n",
    "\n",
    "As usual, start by importing the necessary packages and connecting to the database `data2.sqlite` in the data folder."
   ]
  },
  {
   "cell_type": "code",
   "execution_count": 22,
   "metadata": {},
   "outputs": [],
   "source": [
    "# Your code here; import the necessary packages\n",
    "import sqlite3\n",
    "\n",
    "# Connect to the database\n",
    "conn = sqlite3.connect('data/data2.sqlite')\n"
   ]
  },
  {
   "cell_type": "code",
   "execution_count": 23,
   "metadata": {},
   "outputs": [],
   "source": [
    "# Your code here; create the connection\n",
    "import sqlite3\n",
    "\n",
    "# Connect to the database\n",
    "conn = sqlite3.connect('data/data2.sqlite')\n",
    "\n",
    "# Create a cursor object to execute SQL queries\n",
    "cur = conn.cursor()\n",
    "\n",
    "# Now you're ready to write and execute your SQL queries\n",
    "\n",
    "# Don't forget to close the connection when you're done\n",
    "conn.close()\n"
   ]
  },
  {
   "cell_type": "markdown",
   "metadata": {},
   "source": [
    "## Write an Equivalent Query using a Subquery\n",
    "\n",
    "The following query works using a `JOIN`. Rewrite it so that it uses a subquery instead.\n",
    "\n",
    "```\n",
    "SELECT\n",
    "    customerNumber,\n",
    "    contactLastName,\n",
    "    contactFirstName\n",
    "FROM customers\n",
    "JOIN orders \n",
    "    USING(customerNumber)\n",
    "WHERE orderDate = '2003-01-31'\n",
    ";\n",
    "```"
   ]
  },
  {
   "cell_type": "code",
   "execution_count": 28,
   "metadata": {},
   "outputs": [
    {
     "name": "stdout",
     "output_type": "stream",
     "text": [
      "[(141, 'Freyre', 'Diego ')]\n"
     ]
    }
   ],
   "source": [
    "import sqlite3\n",
    "\n",
    "# Connect to the database\n",
    "conn = sqlite3.connect('data/data2.sqlite')\n",
    "\n",
    "# Create a cursor object to execute SQL queries\n",
    "cur = conn.cursor()\n",
    "\n",
    "# Your code here\n",
    "query = \"\"\"\n",
    "    SELECT \n",
    "        customerNumber,\n",
    "        contactLastName,\n",
    "        contactFirstName\n",
    "    FROM customers\n",
    "    WHERE customerNumber IN (\n",
    "        SELECT customerNumber\n",
    "        FROM orders\n",
    "        WHERE orderDate = '2003-01-31'\n",
    "    );\n",
    "\"\"\"\n",
    "\n",
    "# Execute the query using the cursor\n",
    "cur.execute(query)\n",
    "\n",
    "# Fetch the results if needed\n",
    "results = cur.fetchall()\n",
    "\n",
    "# Print or process the results as necessary\n",
    "print(results)"
   ]
  },
  {
   "cell_type": "markdown",
   "metadata": {},
   "source": [
    "## Select the Total Number of Orders for Each Product Name\n",
    "\n",
    "Sort the results by the total number of items sold for that product."
   ]
  },
  {
   "cell_type": "code",
   "execution_count": 6,
   "metadata": {},
   "outputs": [
    {
     "name": "stdout",
     "output_type": "stream",
     "text": [
      "[('1992 Ferrari 360 Spider red', 53, 1808), ('1937 Lincoln Berline', 28, 1111), ('American Airlines: MD-11S', 28, 1085), ('1941 Chevrolet Special Deluxe Cabriolet', 28, 1076), ('1930 Buick Marquette Phaeton', 28, 1074), ('1940s Ford truck', 28, 1061), ('1969 Harley Davidson Ultimate Chopper', 28, 1057), ('1957 Chevy Pickup', 28, 1056), ('1964 Mercedes Tour Bus', 28, 1053), ('1956 Porsche 356A Coupe', 27, 1052), ('Corsair F4U ( Bird Cage)', 28, 1051), ('F/A 18 Hornet 1/72', 28, 1047), ('1980s Black Hawk Helicopter', 28, 1040), ('1913 Ford Model T Speedster', 28, 1038), ('1997 BMW R 1100 S', 28, 1033), ('1972 Alfa Romeo GTA', 28, 1030), ('1962 Volkswagen Microbus', 28, 1029), ('2002 Suzuki XREO', 28, 1028), ('The USS Constitution Ship', 27, 1020), ('2001 Ferrari Enzo', 27, 1019), ('1960 BSA Gold Star DBD34', 28, 1015), ('1997 BMW F650 ST', 28, 1014), ('1957 Corvette Convertible', 27, 1013), ('18th century schooner', 27, 1011), ('1900s Vintage Tri-Plane', 28, 1009), ('1996 Moto Guzzi 1100i', 28, 999), ('1940 Ford Pickup Truck', 28, 999), ('1926 Ford Fire Engine', 28, 998), ('1982 Camaro Z28', 28, 997), ('1939 Cadillac Limousine', 28, 995), ('2002 Yamaha YZR M1', 27, 992), ('1969 Dodge Charger', 27, 992), ('1917 Maxwell Touring Car', 28, 992), ('1912 Ford Model T Delivery Wagon', 27, 991), ('1904 Buick Runabout', 27, 990), ('1996 Peterbilt 379 Stake Bed with Outrigger', 28, 988), ('1998 Chrysler Plymouth Prowler', 28, 986), ('2003 Harley-Davidson Eagle Drag Bike', 28, 985), ('1934 Ford V8 Coupe', 28, 985), ('America West Airlines B757-200', 28, 984), ('1958 Chevy Corvette Limited Edition', 28, 983), ('1936 Chrysler Airflow', 28, 983), ('Diamond T620 Semi-Skirted Tanker', 28, 979), ('1970 Dodge Coronet', 28, 976), ('1969 Dodge Super Bee', 27, 974), ('ATA: B757-300', 28, 973), ('1958 Setra Bus', 28, 972), ('1948 Porsche 356-A Roadster', 27, 972), ('1928 Ford Phaeton Deluxe', 28, 972), ('1928 British Royal Navy Airplane', 28, 972), ('1971 Alpine Renault 1600s', 27, 969), ('1999 Yamaha Speed Boat', 28, 966), ('1962 City of Detroit Streetcar', 27, 966), ('1969 Ford Falcon', 27, 965), ('1969 Corvair Monza', 27, 963), ('1952 Alpine Renault 1300', 28, 961), ('Boeing X-32A JSF', 28, 960), ('1936 Mercedes-Benz 500K Special Roadster', 28, 960), ('1957 Vespa GS150', 27, 959), ('Pont Yacht', 27, 958), ('1932 Model A Ford J-Coupe', 28, 957), ('1954 Greyhound Scenicruiser', 28, 955), ('1938 Cadillac V-16 Presidential Limousine', 28, 955), ('The Titanic', 27, 952), ('1949 Jaguar XK 120', 25, 949), ('1948 Porsche Type 356 Roadster', 25, 948), ('1993 Mazda RX-7', 27, 947), ('1982 Ducati 900 Monster', 27, 947), ('1970 Triumph Spitfire', 27, 945), ('1936 Harley Davidson El Knucklehead', 28, 945), ('1961 Chevrolet Impala', 27, 941), ('1900s Vintage Bi-Plane', 28, 940), ('1939 Chevrolet Deluxe Coupe', 28, 937), ('The Schooner Bluenose', 27, 934), (\"1950's Chicago Surface Lines Streetcar\", 27, 934), ('1968 Ford Mustang', 27, 933), ('1962 LanciaA Delta 16V', 28, 932), ('1968 Dodge Charger', 27, 925), ('1940 Ford Delivery Sedan', 28, 923), ('Collectable Wooden Train', 27, 918), ('1917 Grand Touring Sedan', 25, 918), ('P-51-D Mustang', 28, 917), ('1995 Honda Civic', 27, 917), ('1976 Ford Gran Torino', 27, 915), ('1966 Shelby Cobra 427 S/C', 25, 915), ('1965 Aston Martin DB5', 25, 914), ('1982 Lamborghini Diablo', 27, 912), ('1980’s GM Manhattan Express', 28, 911), ('18th Century Vintage Horse Carriage', 28, 907), ('1982 Ducati 996 R', 27, 906), ('1970 Plymouth Hemi Cuda', 27, 900), ('The Mayflower', 27, 898), ('1974 Ducati 350 Mk3 Desmo', 27, 898), ('HMS Bounty', 28, 897), ('The Queen Mary', 27, 896), ('American Airlines: B767-300', 28, 894), ('2002 Chevy Corvette', 25, 894), ('1937 Horch 930V Limousine', 28, 884), ('1903 Ford Model A', 27, 883), ('1928 Mercedes-Benz SSK', 28, 880), ('1952 Citroen-15CV', 24, 873), ('1969 Chevrolet Camaro Z28', 25, 870), ('1992 Porsche Cayenne Turbo Silver', 27, 867), ('1932 Alfa Romeo 8C2300 Spider Sport', 25, 866), ('1999 Indy 500 Monte Carlo SS', 25, 855), ('1911 Ford Town Car', 25, 832), ('1936 Mercedes Benz 500k Roadster', 25, 824), ('1970 Chevy Chevelle SS 454', 25, 803), ('1957 Ford Thunderbird', 24, 767)]\n"
     ]
    }
   ],
   "source": [
    "# Your code here\n",
    "query = \"\"\"\n",
    "    SELECT \n",
    "        productName,\n",
    "        COUNT(orderNumber) AS totalOrders,\n",
    "        SUM(quantityOrdered) AS totalItemsSold\n",
    "    FROM products\n",
    "    JOIN orderdetails \n",
    "        USING(productCode)\n",
    "    GROUP BY productName\n",
    "    ORDER BY totalItemsSold DESC;\n",
    "\"\"\"\n",
    "# Execute the query using the cursor\n",
    "cur.execute(query)\n",
    "\n",
    "# Fetch the results if needed\n",
    "results = cur.fetchall()\n",
    "\n",
    "# Print or process the results as necessary\n",
    "print(results)"
   ]
  },
  {
   "cell_type": "markdown",
   "metadata": {},
   "source": [
    "## Select the Product Name and the  Total Number of People Who Have Ordered Each Product\n",
    "\n",
    "Sort the results in descending order."
   ]
  },
  {
   "cell_type": "markdown",
   "metadata": {},
   "source": [
    "### A quick note on the SQL  `SELECT DISTINCT` statement:"
   ]
  },
  {
   "cell_type": "markdown",
   "metadata": {},
   "source": [
    "The `SELECT DISTINCT` statement is used to return only distinct values in the specified column. In other words, it removes the duplicate values in the column from the result set.\n",
    "\n",
    "Inside a table, a column often contains many duplicate values; and sometimes you only want to list the unique values. If you apply the `DISTINCT` clause to a column that has `NULL`, the `DISTINCT` clause will keep only one NULL and eliminates the other. In other words, the DISTINCT clause treats all `NULL` “values” as the same value."
   ]
  },
  {
   "cell_type": "code",
   "execution_count": 9,
   "metadata": {},
   "outputs": [
    {
     "name": "stdout",
     "output_type": "stream",
     "text": [
      "[('1992 Ferrari 360 Spider red', 40), ('Boeing X-32A JSF', 27), ('1972 Alfa Romeo GTA', 27), ('1952 Alpine Renault 1300', 27), ('1934 Ford V8 Coupe', 27), ('HMS Bounty', 26), ('Corsair F4U ( Bird Cage)', 26), ('American Airlines: MD-11S', 26), ('1999 Yamaha Speed Boat', 26), ('1996 Moto Guzzi 1100i', 26), ('1995 Honda Civic', 26), ('1980s Black Hawk Helicopter', 26), ('1969 Harley Davidson Ultimate Chopper', 26), ('1941 Chevrolet Special Deluxe Cabriolet', 26), ('1940 Ford Delivery Sedan', 26), ('1937 Horch 930V Limousine', 26), ('1913 Ford Model T Speedster', 26), ('1900s Vintage Bi-Plane', 26), ('18th Century Vintage Horse Carriage', 26), ('America West Airlines B757-200', 25), ('ATA: B757-300', 25), ('2003 Harley-Davidson Eagle Drag Bike', 25), ('2002 Suzuki XREO', 25), ('1997 BMW R 1100 S', 25), ('1993 Mazda RX-7', 25), ('1962 LanciaA Delta 16V', 25), ('1960 BSA Gold Star DBD34', 25), ('1948 Porsche 356-A Roadster', 25), ('1940s Ford truck', 25), ('1940 Ford Pickup Truck', 25), ('1937 Lincoln Berline', 25), ('1936 Mercedes-Benz 500K Special Roadster', 25), ('1936 Harley Davidson El Knucklehead', 25), ('1912 Ford Model T Delivery Wagon', 25), ('The Queen Mary', 24), ('Pont Yacht', 24), ('P-51-D Mustang', 24), ('F/A 18 Hornet 1/72', 24), ('2002 Yamaha YZR M1', 24), ('1997 BMW F650 ST', 24), ('1969 Dodge Charger', 24), ('1939 Chevrolet Deluxe Coupe', 24), ('1936 Chrysler Airflow', 24), ('1932 Model A Ford J-Coupe', 24), ('1917 Maxwell Touring Car', 24), ('1917 Grand Touring Sedan', 24), ('18th century schooner', 24), ('The USS Constitution Ship', 23), ('The Schooner Bluenose', 23), ('American Airlines: B767-300', 23), ('2001 Ferrari Enzo', 23), ('1996 Peterbilt 379 Stake Bed with Outrigger', 23), ('1980’s GM Manhattan Express', 23), ('1974 Ducati 350 Mk3 Desmo', 23), ('1970 Plymouth Hemi Cuda', 23), ('1968 Ford Mustang', 23), ('1958 Setra Bus', 23), ('1939 Cadillac Limousine', 23), ('1938 Cadillac V-16 Presidential Limousine', 23), ('1932 Alfa Romeo 8C2300 Spider Sport', 23), ('1930 Buick Marquette Phaeton', 23), ('1928 Ford Phaeton Deluxe', 23), ('1926 Ford Fire Engine', 23), ('1911 Ford Town Car', 23), ('The Titanic', 22), ('The Mayflower', 22), ('Diamond T620 Semi-Skirted Tanker', 22), ('1982 Ducati 900 Monster', 22), ('1982 Camaro Z28', 22), ('1971 Alpine Renault 1600s', 22), ('1969 Ford Falcon', 22), ('1969 Corvair Monza', 22), ('1968 Dodge Charger', 22), ('1965 Aston Martin DB5', 22), ('1964 Mercedes Tour Bus', 22), ('1962 City of Detroit Streetcar', 22), ('1961 Chevrolet Impala', 22), ('1956 Porsche 356A Coupe', 22), (\"1950's Chicago Surface Lines Streetcar\", 22), ('1928 British Royal Navy Airplane', 22), ('1904 Buick Runabout', 22), ('1900s Vintage Tri-Plane', 22), ('1999 Indy 500 Monte Carlo SS', 21), ('1998 Chrysler Plymouth Prowler', 21), ('1982 Lamborghini Diablo', 21), ('1982 Ducati 996 R', 21), ('1970 Triumph Spitfire', 21), ('1969 Dodge Super Bee', 21), ('1966 Shelby Cobra 427 S/C', 21), ('1962 Volkswagen Microbus', 21), ('1957 Vespa GS150', 21), ('1957 Corvette Convertible', 21), ('1957 Chevy Pickup', 21), ('1948 Porsche Type 356 Roadster', 21), ('1936 Mercedes Benz 500k Roadster', 21), ('1928 Mercedes-Benz SSK', 21), ('1903 Ford Model A', 21), ('Collectable Wooden Train', 20), ('1992 Porsche Cayenne Turbo Silver', 20), ('1976 Ford Gran Torino', 20), ('1970 Dodge Coronet', 20), ('1970 Chevy Chevelle SS 454', 20), ('1957 Ford Thunderbird', 20), ('1954 Greyhound Scenicruiser', 20), ('1958 Chevy Corvette Limited Edition', 19), ('2002 Chevy Corvette', 18), ('1969 Chevrolet Camaro Z28', 18), ('1952 Citroen-15CV', 18), ('1949 Jaguar XK 120', 18)]\n"
     ]
    }
   ],
   "source": [
    "# Your code here\n",
    "# Hint: because one of the tables we'll be joining has duplicate customer numbers, you should use DISTINCT\n",
    "import sqlite3\n",
    "\n",
    "# Connect to the database\n",
    "conn = sqlite3.connect('data/data2.sqlite')\n",
    "\n",
    "# Create a cursor object to execute SQL queries\n",
    "cur = conn.cursor()\n",
    "\n",
    "query = \"\"\"\n",
    "    SELECT \n",
    "        productName,\n",
    "        COUNT(DISTINCT customerNumber) AS totalPeopleOrdered\n",
    "    FROM products\n",
    "    JOIN orderdetails \n",
    "        USING(productCode)\n",
    "    JOIN orders \n",
    "        USING(orderNumber)\n",
    "    GROUP BY productName\n",
    "    ORDER BY totalPeopleOrdered DESC;\n",
    "\"\"\"\n",
    "\n",
    "# Execute the query using the cursor\n",
    "cur.execute(query)\n",
    "\n",
    "# Fetch the results if needed\n",
    "results = cur.fetchall()\n",
    "\n",
    "# Print or process the results as necessary\n",
    "print(results)\n"
   ]
  },
  {
   "cell_type": "markdown",
   "metadata": {},
   "source": [
    "## Select the Employee Number, First Name, Last Name, City (of the office), and Office Code of the Employees Who Sold Products That Have Been Ordered by Fewer Than 20 people.\n",
    "\n",
    "This problem is a bit tougher. To start, think about how you might break the problem up. Be sure that your results only list each employee once."
   ]
  },
  {
   "cell_type": "code",
   "execution_count": 10,
   "metadata": {},
   "outputs": [
    {
     "name": "stdout",
     "output_type": "stream",
     "text": [
      "[(1501, 'Larry', 'Bott', 'London', 7), (1166, 'Leslie', 'Thompson', 'San Francisco', 1), (1612, 'Peter', 'Marsh', 'Sydney', 6), (1611, 'Andy', 'Fixter', 'Sydney', 6), (1401, 'Pamela', 'Castillo', 'Paris', 4), (1323, 'George', 'Vanauf', 'NYC', 3), (1165, 'Leslie', 'Jennings', 'San Francisco', 1), (1216, 'Steve', 'Patterson', 'Boston', 2), (1286, 'Foon Yue', 'Tseng', 'NYC', 3), (1370, 'Gerard', 'Hernandez', 'Paris', 4), (1337, 'Loui', 'Bondur', 'Paris', 4), (1621, 'Mami', 'Nishi', 'Tokyo', 5), (1702, 'Martin', 'Gerard', 'Paris', 4), (1188, 'Julie', 'Firrelli', 'Boston', 2), (1504, 'Barry', 'Jones', 'London', 7)]\n"
     ]
    }
   ],
   "source": [
    "# Your code here\n",
    "import sqlite3\n",
    "\n",
    "# Connect to the database\n",
    "conn = sqlite3.connect('data/data2.sqlite')\n",
    "\n",
    "# Create a cursor object to execute SQL queries\n",
    "cur = conn.cursor()\n",
    "\n",
    "query = \"\"\"\n",
    "    SELECT DISTINCT\n",
    "        employees.employeeNumber,\n",
    "        employees.firstName,\n",
    "        employees.lastName,\n",
    "        offices.city,\n",
    "        offices.officeCode\n",
    "    FROM employees\n",
    "    JOIN offices\n",
    "        USING(officeCode)\n",
    "    JOIN customers\n",
    "        ON employees.employeeNumber = customers.salesRepEmployeeNumber\n",
    "    JOIN orders\n",
    "        USING(customerNumber)\n",
    "    JOIN orderdetails\n",
    "        USING(orderNumber)\n",
    "    JOIN products\n",
    "        USING(productCode)\n",
    "    WHERE products.productCode IN (\n",
    "        SELECT productCode\n",
    "        FROM orderdetails\n",
    "        JOIN orders\n",
    "            USING(orderNumber)\n",
    "        GROUP BY productCode\n",
    "        HAVING COUNT(DISTINCT customerNumber) < 20\n",
    "    );\n",
    "\"\"\"\n",
    "\n",
    "# Execute the query using the cursor\n",
    "cur.execute(query)\n",
    "\n",
    "# Fetch the results if needed\n",
    "results = cur.fetchall()\n",
    "\n",
    "# Print or process the results as necessary\n",
    "print(results)\n"
   ]
  },
  {
   "cell_type": "markdown",
   "metadata": {},
   "source": [
    "## Select the Employee Number, First Name, Last Name, and Number of Customers for Employees Whose Customers Have an Average Credit Limit Over 15K"
   ]
  },
  {
   "cell_type": "code",
   "execution_count": 11,
   "metadata": {},
   "outputs": [
    {
     "name": "stdout",
     "output_type": "stream",
     "text": [
      "[(1165, 'Leslie', 'Jennings', 6), (1166, 'Leslie', 'Thompson', 5), (1188, 'Julie', 'Firrelli', 6), (1216, 'Steve', 'Patterson', 6), (1286, 'Foon Yue', 'Tseng', 6), (1323, 'George', 'Vanauf', 8), (1337, 'Loui', 'Bondur', 6), (1370, 'Gerard', 'Hernandez', 7), (1401, 'Pamela', 'Castillo', 10), (1501, 'Larry', 'Bott', 8), (1504, 'Barry', 'Jones', 9), (1611, 'Andy', 'Fixter', 5), (1612, 'Peter', 'Marsh', 5), (1621, 'Mami', 'Nishi', 5), (1702, 'Martin', 'Gerard', 5)]\n"
     ]
    }
   ],
   "source": [
    "# Your code here\n",
    "import sqlite3\n",
    "\n",
    "# Connect to the database\n",
    "conn = sqlite3.connect('data/data2.sqlite')\n",
    "\n",
    "# Create a cursor object to execute SQL queries\n",
    "cur = conn.cursor()\n",
    "\n",
    "query = \"\"\"\n",
    "    SELECT\n",
    "        employees.employeeNumber,\n",
    "        employees.firstName,\n",
    "        employees.lastName,\n",
    "        COUNT(DISTINCT customers.customerNumber) AS numberOfCustomers\n",
    "    FROM employees\n",
    "    JOIN customers\n",
    "        ON employees.employeeNumber = customers.salesRepEmployeeNumber\n",
    "    WHERE customers.creditLimit > 15000\n",
    "    GROUP BY employees.employeeNumber, employees.firstName, employees.lastName\n",
    "    HAVING AVG(customers.creditLimit) > 15000;\n",
    "\"\"\"\n",
    "\n",
    "# Execute the query using the cursor\n",
    "cur.execute(query)\n",
    "\n",
    "# Fetch the results if needed\n",
    "results = cur.fetchall()\n",
    "\n",
    "# Print or process the results as necessary\n",
    "print(results)\n"
   ]
  },
  {
   "cell_type": "markdown",
   "metadata": {},
   "source": [
    "## Summary\n",
    "\n",
    "In this lesson, you got to practice some more complex SQL queries, some of which required subqueries. There's still plenty more SQL to be had though; hope you've been enjoying some of these puzzles!"
   ]
  }
 ],
 "metadata": {
  "hide_input": false,
  "kernelspec": {
   "display_name": "Python 3 (ipykernel)",
   "language": "python",
   "name": "python3"
  },
  "language_info": {
   "codemirror_mode": {
    "name": "ipython",
    "version": 3
   },
   "file_extension": ".py",
   "mimetype": "text/x-python",
   "name": "python",
   "nbconvert_exporter": "python",
   "pygments_lexer": "ipython3",
   "version": "3.11.4"
  },
  "latex_envs": {
   "LaTeX_envs_menu_present": true,
   "autoclose": false,
   "autocomplete": true,
   "bibliofile": "biblio.bib",
   "cite_by": "apalike",
   "current_citInitial": 1,
   "eqLabelWithNumbers": true,
   "eqNumInitial": 1,
   "hotkeys": {
    "equation": "Ctrl-E",
    "itemize": "Ctrl-I"
   },
   "labels_anchors": false,
   "latex_user_defs": false,
   "report_style_numbering": false,
   "user_envs_cfg": false
  },
  "nbTranslate": {
   "displayLangs": [
    "*"
   ],
   "hotkey": "alt-t",
   "langInMainMenu": true,
   "sourceLang": "en",
   "targetLang": "fr",
   "useGoogleTranslate": true
  },
  "toc": {
   "base_numbering": 1,
   "nav_menu": {},
   "number_sections": true,
   "sideBar": true,
   "skip_h1_title": false,
   "title_cell": "Table of Contents",
   "title_sidebar": "Contents",
   "toc_cell": false,
   "toc_position": {},
   "toc_section_display": true,
   "toc_window_display": false
  },
  "varInspector": {
   "cols": {
    "lenName": 16,
    "lenType": 16,
    "lenVar": 40
   },
   "kernels_config": {
    "python": {
     "delete_cmd_postfix": "",
     "delete_cmd_prefix": "del ",
     "library": "var_list.py",
     "varRefreshCmd": "print(var_dic_list())"
    },
    "r": {
     "delete_cmd_postfix": ") ",
     "delete_cmd_prefix": "rm(",
     "library": "var_list.r",
     "varRefreshCmd": "cat(var_dic_list()) "
    }
   },
   "types_to_exclude": [
    "module",
    "function",
    "builtin_function_or_method",
    "instance",
    "_Feature"
   ],
   "window_display": false
  }
 },
 "nbformat": 4,
 "nbformat_minor": 2
}
